{
 "cells": [
  {
   "cell_type": "markdown",
   "metadata": {
    "collapsed": false
   },
   "source": [
    "# Comparing experimental and theoretical B field in a solenoid."
   ]
  },
  {
   "cell_type": "markdown",
   "metadata": {
    "collapsed": false
   },
   "source": [
    "This notebook is designed to lead you through the process of plotting your theoretical and experimental results for the solenoid, saving the plot to file so you can print it out, stick it in your lab book and discuss how they compare.\n",
    "\n",
    "Step 1. Import numpy and pyplot from matplotlib. Also call the command that ensures matplotlib plots happen inline, within the current window."
   ]
  },
  {
   "cell_type": "code",
   "execution_count": 2,
   "metadata": {
    "collapsed": false
   },
   "outputs": [
   ],
   "source": [
    "import numpy as np\n",
    "import matplotlib.pyplot as plt\n",
    "%matplotlib inline"
   ]
  },
  {
   "cell_type": "markdown",
   "metadata": {
    "collapsed": false
   },
   "source": [
    "## Comparing the B field through the cross section of the solenoid."
   ]
  },
  {
   "cell_type": "markdown",
   "metadata": {
    "collapsed": false
   },
   "source": [
    "Step 2. Load your theoretical value of the B field through the cross section of the solenoid, that you wrote to \".csv\" file."
   ]
  },
  {
   "cell_type": "code",
   "execution_count": 5,
   "metadata": {
    "collapsed": false
   },
   "outputs": [
   ],
   "source": [
    "#Set the appropriate filename\n",
    "theoryB=np.loadtxt(\"Solenoid1.csv\",delimiter=',')"
   ]
  },
  {
   "cell_type": "markdown",
   "metadata": {
    "collapsed": false
   },
   "source": [
    "Step 3. Enter your experimental data for the B field through the cross section of the solenoid, that you recorded in Table 1. Make four 1-d arrays for each of the four variables;\n",
    "position (mm), uncertainty in position (mm), B field strength (mT), and uncertainty in B field strength (mT)."
   ]
  },
  {
   "cell_type": "code",
   "execution_count": 0,
   "metadata": {
    "collapsed": false
   },
   "outputs": [
   ],
   "source": [
   ]
  },
  {
   "cell_type": "code",
   "execution_count": 0,
   "metadata": {
    "collapsed": false
   },
   "outputs": [
   ],
   "source": [
    "#position (mm)\n",
    "pos=np.arange(-0.3,0.32,0.02)\n",
    "#uncertainty in position (mm)\n",
    "delta_pos=np.array([0.01,0.01,0.01,0.01,0.01,0.01,0.01,0.01,0.01,0.01,0.01,0.01,0.02,0.02,0.02,0.01,0.01,0.01,0.01,0.01,0.01])\n",
    "#B field strength in mT\n",
    "Bfield=np.array([0.14,0.16,0.21,0.23,0.26,0.27,0.26,0.27,0.])\n",
    "#uncertainty in B field strength in mT\n",
    "delta_Bfield=np.array([])"
   ]
  },
  {
   "cell_type": "markdown",
   "metadata": {
    "collapsed": false
   },
   "source": [
    "Step 4. Now plot the theoretical and experimental data on the same axes, adding all the necessary labels and saving the figure as a pdf file you can later print."
   ]
  },
  {
   "cell_type": "code",
   "execution_count": 0,
   "metadata": {
    "collapsed": false
   },
   "outputs": [
   ],
   "source": [
    "#First plot the experimental B strength as a function of position, showing uncertainty with error bars and add a label\n",
    "plt.errorbar()\n",
    "#Plotting straight line representing the theoretical B field inside the solenoid\n",
    "positionArray=np.array(pos.min(),pos.max()])\n",
    "theoryBArray=np.array([theoryB,theoryB])\n",
    "plt.plot(positionArray,theoryBArray,':',c='r',label='theory')\n",
    "#Label axes\n",
    "\n",
    "#Add title to plot\n",
    "\n",
    "#Add legend\n",
    "\n",
    "#Adjust the output filename to a descriptive value\n",
    "plt.savefig(\"myplot.pdf\",dpi=300,orientation=\"landscape\")"
   ]
  },
  {
   "cell_type": "markdown",
   "metadata": {
    "collapsed": false
   },
   "source": [
    "## Comparing the B field along the z axis of the solenoid."
   ]
  },
  {
   "cell_type": "markdown",
   "metadata": {
    "collapsed": false
   },
   "source": [
    "Step 5. Now load in your theoretical B field data for along the z-axis of the solenoid. You'll need to put in the correct \".csv\" filename. The file should contain two columns of data corresponding to the z-axis values (mm) and the B field strength in (mT)."
   ]
  },
  {
   "cell_type": "code",
   "execution_count": 0,
   "metadata": {
    "collapsed": true
   },
   "outputs": [
   ],
   "source": [
    "#Enter the correct .csv filename (refer to MagneticFields_Theory-SV.ipynb if you are unsure of the filename you wrote it to.)\n",
    "theoryData=np.loadtxt(\"myData.csv\",delimiter=',')\n",
    "#Extracting z position and B field strength data separately\n",
    "theoryZ=theoryData[:,0]\n",
    "theoryB=theoryData[:,1]"
   ]
  },
  {
   "cell_type": "markdown",
   "metadata": {
    "collapsed": false
   },
   "source": [
    "Step 6. Enter your experimental measurements along the z-axis of the solenoid from Table 2, making a 1-d array for four variables; z position, uncertainty in z, B field strength, uncertainty in B. Each array should have the same number of entries as each other."
   ]
  },
  {
   "cell_type": "code",
   "execution_count": 0,
   "metadata": {
    "collapsed": false
   },
   "outputs": [
   ],
   "source": [
    "#enter z position in mm\n",
    "zPos=np.array([])\n",
    "#Enter uncertainty in z position in mm\n",
    "delta_zPos=np.array([])\n",
    "#Enter B field strength measurements in mT\n",
    "Bfield=np.array([])\n",
    "#Enter uncertainty in B field strength in mT\n",
    "delta_Bfield=np.array([])"
   ]
  },
  {
   "cell_type": "markdown",
   "metadata": {
    "collapsed": false
   },
   "source": [
    "Step 6. Now plot experimental and theoretical results on the same axes, adding all the necessary labels and saving the figure as a pdf file you can later print."
   ]
  },
  {
   "cell_type": "code",
   "execution_count": 0,
   "metadata": {
    "collapsed": false
   },
   "outputs": [
   ],
   "source": [
    "#First plot the experimental B field strength as a function of z position, and use error bars to show uncertainty\n",
    "#add a label too.\n",
    "plt.errorbar(\n",
    "#Plot theoretical predictions with a line and label too.\n",
    "plt.plot(\n",
    "#Label axes\n",
    "\n",
    "    \n",
    "#Add title to plot\n",
    "\n",
    "#Add legend\n",
    "\n",
    "#Adjust the output filename to a descriptive value\n",
    "plt.savefig(\"myplot.pdf\",dpi=300,orientation=\"landscape\")"
   ]
  }
 ],
 "metadata": {
  "kernelspec": {
   "display_name": "Python 3 (system-wide)",
   "language": "python",
   "metadata": {
    "cocalc": {
     "description": "Python 3 programming language",
     "priority": 100,
     "url": "https://www.python.org/"
    }
   },
   "name": "python3"
  },
  "language_info": {
   "codemirror_mode": {
    "name": "ipython",
    "version": 3
   },
   "file_extension": ".py",
   "mimetype": "text/x-python",
   "name": "python",
   "nbconvert_exporter": "python",
   "pygments_lexer": "ipython3",
   "version": "3.6.9"
  }
 },
 "nbformat": 4,
 "nbformat_minor": 4
}
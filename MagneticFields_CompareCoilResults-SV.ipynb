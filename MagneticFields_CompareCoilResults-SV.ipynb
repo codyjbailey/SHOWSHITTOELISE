{
 "cells": [
  {
   "cell_type": "markdown",
   "metadata": {
    "collapsed": false
   },
   "source": [
    "# Comparing experimental and theoretical B field in Helmholtz coil(s)."
   ]
  },
  {
   "cell_type": "markdown",
   "metadata": {
    "collapsed": false
   },
   "source": [
    "This notebook is designed to lead you through the process of plotting your theoretical and experimental results for the Helmholtz coils, saving the plots to file so you can print it out, stick it in your lab book and discuss how they compare.\n",
    "\n",
    "Step 1. Import numpy and pyplot from matplotlib. Also call the command that ensures matplotlib plots happen inline, within the current window."
   ]
  },
  {
   "cell_type": "code",
   "execution_count": 0,
   "metadata": {
    "collapsed": true
   },
   "outputs": [
   ],
   "source": [
    "import numpy as np\n",
    "import matplotlib.pyplot as plt\n",
    "%matplotlib inline"
   ]
  },
  {
   "cell_type": "markdown",
   "metadata": {
    "collapsed": false
   },
   "source": [
    "## Comparing the B field along the z axis of a single Helmholtz coil.\n"
   ]
  },
  {
   "cell_type": "markdown",
   "metadata": {
    "collapsed": false
   },
   "source": [
    "Step 2. Load your theoretical B field values along the z axis of a single HH coil by specifying the correct \".csv\" file. This file should contain two columns of data corresponding to the z position (mm) and the B field strength (mT)."
   ]
  },
  {
   "cell_type": "code",
   "execution_count": 0,
   "metadata": {
    "collapsed": true
   },
   "outputs": [
   ],
   "source": [
    "#enter the correct \".csv\" file name. (Refer to MagneticFields_Theory-SV.ipynb notebook you just completed if unsure.)\n",
    "theoryData=np.loadtxt(\"myData.csv\",delimiter=',')\n",
    "#Extracting the two variables z position and B field\n",
    "theoryZ=theoryData[:,0]\n",
    "theoryB=theoryData[:,1]"
   ]
  },
  {
   "cell_type": "markdown",
   "metadata": {
    "collapsed": false
   },
   "source": [
    "Step 3. Enter your experimental measurements of B field along the z axis of a single HH coil. You'll need to complete four 1-d arrays, for the z position, uncertainty in z position, the magnetic field strength and uncertainty in magnetic field strength. Make sure each array as the same number of entries as the others."
   ]
  },
  {
   "cell_type": "code",
   "execution_count": 0,
   "metadata": {
    "collapsed": true
   },
   "outputs": [
   ],
   "source": [
    "#enter your z position measurements in mm\n",
    "zPos=np.array([])\n",
    "#enter your uncertainty in z position measurements in mm\n",
    "delta_zPos=np.array([])\n",
    "#enter your B field strength in mT\n",
    "Bfield=np.array([])\n",
    "#enter your uncertainty in B field strength in mT\n",
    "delta_Bfield=np.array([])"
   ]
  },
  {
   "cell_type": "markdown",
   "metadata": {
    "collapsed": false
   },
   "source": [
    "Step 4. Now it is all about plotting the experimental and theoretical results on the same axes, adding labels, title and legend and saving the figure as a pdf file you can later print."
   ]
  },
  {
   "cell_type": "code",
   "execution_count": 0,
   "metadata": {
    "collapsed": false
   },
   "outputs": [
   ],
   "source": [
    "#First plot the experimental data - B field strength as a function of z position, and use error bars to show uncertainty.\n",
    "#add a label to the plotted experimental data too.\n",
    "plt.errorbar()\n",
    "#Plot theoretical predictions - the second column of theoryData holds the B field strength, the first column holds the z position values\n",
    "#add a label to the plotted theoretical data too.\n",
    "plt.plot()\n",
    "#Label axes\n",
    "\n",
    "\n",
    "#Add title to plot\n",
    "\n",
    "#Add legend\n",
    "\n",
    "#Adjust the output filename to a descriptive value\n",
    "plt.savefig(\"myplot.pdf\",dpi=300,orientation=\"landscape\")"
   ]
  },
  {
   "cell_type": "markdown",
   "metadata": {
    "collapsed": false
   },
   "source": [
    "## Comparing the B field along the z axis of a pair of Helmholtz coils. "
   ]
  },
  {
   "cell_type": "markdown",
   "metadata": {
    "collapsed": false
   },
   "source": [
    "Step 5. Load in your theoretical data for the pair of HH coils. The \".csv\" file should contain two columns of data corresponding to the z position and the B field strength."
   ]
  },
  {
   "cell_type": "code",
   "execution_count": 0,
   "metadata": {
    "collapsed": true
   },
   "outputs": [
   ],
   "source": [
    "#enter the correct \".csv\" file name. You may need to refer back to the notebook MagneticFields_Theory-SV.ipynb to check the filename you used.\n",
    "theoryData=np.loadtxt(\"myData.csv\",delimiter=',')\n",
    "#Extracting the two variables; z position and B field.\n",
    "theoryZ_2HH=theoryData[:,0]\n",
    "theoryB_2HH=theoryData[:,1]"
   ]
  },
  {
   "cell_type": "markdown",
   "metadata": {
    "collapsed": false
   },
   "source": [
    "Step 6. Enter your experimental data for the pair of HH coils to make four 1-d arrays;one for the z position, uncertainty in z position, B field strength and the uncertainty in B field strength."
   ]
  },
  {
   "cell_type": "code",
   "execution_count": 0,
   "metadata": {
    "collapsed": true
   },
   "outputs": [
   ],
   "source": [
    "#enter your z position measurements in mm for your 2HH coil arrangement\n",
    "zPos_2HH=np.array([])\n",
    "#enter your uncertainty in z position measurements in mm\n",
    "delta_zPos_2HH=np.array([])\n",
    "#enter your B field strength in mT\n",
    "Bfield_2HH=np.array([])\n",
    "#enter your uncertainty in B field strength in mT\n",
    "delta_Bfield_2HH=np.array([])"
   ]
  },
  {
   "cell_type": "markdown",
   "metadata": {
    "collapsed": false
   },
   "source": [
    "Step 7. Now plot the experimental and theoretical results on the same axes, adding labels, title and legend and saving the figure as a pdf file you can later print."
   ]
  },
  {
   "cell_type": "code",
   "execution_count": 0,
   "metadata": {
    "collapsed": false
   },
   "outputs": [
   ],
   "source": [
    "#First plot the experimental data - B field strength as a function of z position, and use error bars to show uncertainty.\n",
    "#add a label to the plotted experimental data too.\n",
    "plt.errorbar()\n",
    "#Plot theoretical predictions - the second column of theoryData holds the B field strength, the first column holds the z position values\n",
    "#add a label to the plotted theoretical data too.\n",
    "plt.plot()\n",
    "#Label axes\n",
    "\n",
    "\n",
    "#Add title to plot\n",
    "\n",
    "#Add legend\n",
    "\n",
    "#Adjust the output filename to a descriptive value\n",
    "plt.savefig(\"myplot.pdf\",dpi=300,orientation=\"landscape\")"
   ]
  },
  {
   "cell_type": "markdown",
   "metadata": {
    "collapsed": false
   },
   "source": [
    "## Optional: Plotting B field variation across the diameter of a single Helmholtz coil. "
   ]
  },
  {
   "cell_type": "markdown",
   "metadata": {
    "collapsed": false
   },
   "source": [
    "Step 8. While there were no theoretical predictions of what the B field strength would be across the plane inside a single HH coil, you have made measurements. Enter your experimental measurements to make four 1-d arrays of data; one corresponding to the\n",
    "radial position from centre of coil, uncertainty in position, B field strength and the uncertainty in B field strength.\n",
    "\n",
    "Then plot it, using error bars to show magnitude of uncertainty."
   ]
  },
  {
   "cell_type": "code",
   "execution_count": 0,
   "metadata": {
    "collapsed": false
   },
   "outputs": [
   ],
   "source": [
    "#Enter radial position measurements in mm.\n",
    "rPos=np.array([])\n",
    "#Enter uncertainty in radial position measurements in mm.\n",
    "delta_rPos=np.array([])\n",
    "#Enter B field strength measurements in mT\n",
    "rBfield=np.array([])\n",
    "#Enter uncertainty in B field strength measurements in mT\n",
    "delta_rBfield=np.array([])\n",
    "#Plot radial B field strength as a function of radial position, and use error bars to show magnitude of uncertainty.\n",
    "plt.errorbar(\n",
    "#add axes labels\n",
    "\n",
    "    \n",
    "#add title\n",
    "    \n",
    "#Enter the radius of the HH coil in mm.\n",
    "R_coil=\n",
    "#Now adding a line marking the actual radius of the HH coil\n",
    "Bcoord=np.array([rBfield.min(),rBfield.max()])\n",
    "Rcoord=np.array([R_coil,R_coil])\n",
    "plt.plot(Rcoord,Bcoord,':',c=(0.5,0.5,0.5))\n",
    "plt.text(R_coil,Bcoord.min(),\"$R_{coil}$\",fontsize='large')\n",
    "#Enter an appropriate pdf file name to save this figure as    \n",
    "plt.savefig(\"myplot.pdf\",dpi=300,orientation=\"landscape\")"
   ]
  }
 ],
 "metadata": {
  "kernelspec": {
   "display_name": "Python 3 (system-wide)",
   "language": "python",
   "metadata": {
    "cocalc": {
     "description": "Python 3 programming language",
     "priority": 100,
     "url": "https://www.python.org/"
    }
   },
   "name": "python3"
  },
  "language_info": {
   "codemirror_mode": {
    "name": "ipython",
    "version": 3
   },
   "file_extension": ".py",
   "mimetype": "text/x-python",
   "name": "python",
   "nbconvert_exporter": "python",
   "pygments_lexer": "ipython3",
   "version": "3.6.9"
  }
 },
 "nbformat": 4,
 "nbformat_minor": 4
}